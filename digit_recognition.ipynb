{
 "cells": [
  {
   "cell_type": "code",
   "execution_count": 36,
   "metadata": {},
   "outputs": [],
   "source": [
    "# -*- coding: utf-8 -*\n",
    "\"\"\"\n",
    "利用朴素贝叶斯分类实现手写数字识别\n",
    "比较不同模型的实现效果（高斯贝叶斯分类器、多项贝叶斯分类器、伯努利贝叶斯分类器）\n",
    "\"\"\"\n",
    "import matplotlib.pyplot as plt\n",
    "from sklearn import datasets, model_selection, naive_bayes\n",
    "from sklearn.metrics import accuracy_score"
   ]
  },
  {
   "cell_type": "code",
   "execution_count": 37,
   "metadata": {},
   "outputs": [
    {
     "name": "stdout",
     "output_type": "stream",
     "text": [
      "digits.keys() =  dict_keys(['data', 'target', 'target_names', 'images', 'DESCR'])\n",
      "digits.images.shape =  (1797, 8, 8)\n"
     ]
    },
    {
     "data": {
      "text/plain": [
       "<Figure size 432x288 with 0 Axes>"
      ]
     },
     "metadata": {},
     "output_type": "display_data"
    },
    {
     "data": {
      "image/png": "[encoded data removed]",
      "text/plain": [
       "<Figure size 288x288 with 1 Axes>"
      ]
     },
     "metadata": {
      "needs_background": "light"
     },
     "output_type": "display_data"
    },
    {
     "name": "stdout",
     "output_type": "stream",
     "text": [
      "digits.data.shape =  (1797, 64)\n",
      "digits.target.shape =  (1797,)\n"
     ]
    }
   ],
   "source": [
    "from sklearn.datasets import load_digits                     #导入手写数据集\n",
    "digits = load_digits()\n",
    "type(digits)                                                 #查看数据集的类型\n",
    "print('digits.keys() = ',digits.keys())                      #查看digits包含的数据内容\n",
    "print('digits.images.shape = ',digits.images.shape )         #imgaes 为一个三维矩阵，表示数据集图片\n",
    "#print('digits.images = ',digits.images)                     #查看数据集图片大小\n",
    "plt.gray()\n",
    "plt.matshow(digits.images[0])\n",
    "plt.show()\n",
    "print('digits.data.shape = ',digits.data.shape)\n",
    "#print('digits.data = ',digits.data)                         #图片像素数据\n",
    "print('digits.target.shape = ',digits.target.shape)\n",
    "#print('digits.target = ',digits.target)                     #图片标签\n",
    "#print('digits.target_names = ',digits.target_names)         #数据集中所有标签值"
   ]
  },
  {
   "cell_type": "code",
   "execution_count": 38,
   "metadata": {},
   "outputs": [],
   "source": [
    "#划分数据集\n",
    "#形式一：\n",
    "def load_data():\n",
    "    digits = datasets.load_digits()\n",
    "    return model_selection.train_test_split(digits.data, digits.target, test_size=0.25, random_state=0)\n",
    "#形式二：\n",
    "#from sklearn.model_selection import train_test_split\n",
    "# 随机选取75%的数据作为训练样本；其余25%的数据作为测试样本\n",
    "#X_train, X_test, y_train, y_test = train_test_split(digits.data, digits.target, test_size=0.25, random_state=0) "
   ]
  },
  {
   "cell_type": "code",
   "execution_count": 33,
   "metadata": {},
   "outputs": [
    {
     "name": "stdout",
     "output_type": "stream",
     "text": [
      "*************GaussianNB Classifier***************\n",
      "Training Score: 0.857\n",
      "Test Score: 0.833\n",
      "[[ 0.  0. 11. ... 13. 16.  8.]\n",
      " [ 0.  1. 15. ...  1.  0.  0.]\n",
      " [ 0.  2. 13. ... 16. 16.  3.]\n",
      " ...\n",
      " [ 0.  0. 11. ...  7.  0.  0.]\n",
      " [ 0.  0.  5. ...  7.  0.  0.]\n",
      " [ 0.  2. 14. ...  6.  0.  0.]]\n",
      "[2 8 2 6 6 7 1 9 8 5 2 8 6 6 6 6 1 0 5 8 8 7 8 4 7 5 4 9 2 9 4 7 6 8 9 4 3\n",
      " 1 0 1 8 6 7 7 1 0 7 6 2 1 3 6 7 9 0 0 5 8 6 3 0 2 3 4 1 9 8 6 8 8 8 3 5 1\n",
      " 2 1 2 1 9 7 1 3 6 0 5 3 7 5 1 8 9 9 3 1 7 7 4 8 5 1 5 5 8 5 8 0 7 1 7 7 3\n",
      " 4 8 9 7 7 8 1 6 5 8 5 5 4 1 7 0 6 8 5 8 1 1 5 9 9 5 7 5 6 8 8 6 7 6 1 5 1\n",
      " 7 9 9 1 5 3 6 1 8 9 7 7 6 7 6 5 6 0 8 8 3 8 6 1 0 7 1 6 3 8 6 7 4 3 6 3 0\n",
      " 3 3 3 0 7 7 5 7 8 0 7 1 9 6 4 7 0 1 4 6 4 3 8 0 9 5 3 1 1 4 8 1 6 8 9 2 4\n",
      " 9 3 7 6 8 3 3 1 6 9 8 6 3 1 2 0 7 6 1 1 8 7 1 7 1 5 5 7 5 3 8 7 2 7 5 5 7\n",
      " 0 9 1 6 5 9 7 4 3 8 0 3 6 4 6 3 1 6 8 8 8 4 6 7 5 2 1 7 3 8 4 6 9 4 5 7 3\n",
      " 4 6 2 8 0 1 7 8 0 3 6 0 4 8 0 7 8 7 5 7 8 2 8 4 3 7 2 6 7 1 1 1 0 8 2 8 8\n",
      " 5 6 8 3 7 8 1 5 1 6 4 5 0 9 4 1 1 7 0 8 9 0 5 7 8 8 8 2 5 3 7 4 4 8 8 7 0\n",
      " 4 6 3 5 2 3 0 8 8 3 1 3 3 0 0 4 6 0 7 7 6 8 0 4 4 2 3 7 1 9 8 6 3 5 6 2 2\n",
      " 3 1 7 7 8 0 3 3 8 1 5 5 9 1 3 7 0 0 4 0 4 5 9 3 3 4 7 1 8 9 8 3 6 8 1 6 8\n",
      " 1 7 5 5 1 9]\n",
      "GaussianNB accuracy: 0.833\n",
      "None\n",
      "高斯模型主要用来处理连续型特征变量，使用此模型时需假定特征属于高斯分布，然后基于训练样本计算特征均值和标准差，从而得到此特征下每一个属性值的先验概率。\n"
     ]
    }
   ],
   "source": [
    "#高斯贝叶斯分类器\n",
    "def test_GaussianNB(*data):\n",
    "    X_train, X_test, y_train, y_test = data\n",
    "    cls = naive_bayes.GaussianNB()       #此处不指定prior，根据数据计算先验概率，在实例化时，可不对高斯朴素贝叶斯类输入参数\n",
    "    cls.fit(X_train, y_train)            #实例化模型并训练模型，其中fit()过程就是在计算概率的过程\n",
    "    print(\"*************GaussianNB Classifier***************\")\n",
    "    print('Training Score: %.3f' % cls.score(X_train, y_train))\n",
    "    print('Test Score: %.3f' % cls.score(X_test, y_test))     # 使用模型自带的评估函数进行精确性测度\n",
    "    print(X_test)\n",
    "    pre_g = cls.predict(X_test)                              ##取每一个样本中概率最大的作为此样本的标签\n",
    "    print(pre_g)\n",
    "    accuracy_g = accuracy_score(y_test, pre_g)\n",
    "    print('GaussianNB accuracy: %.3f' % accuracy_g)\n",
    "X_train, X_test, y_train, y_test = load_data()\n",
    "print(test_GaussianNB(X_train, X_test, y_train, y_test))\n",
    "print('高斯模型主要用来处理连续型特征变量，使用此模型时需假定每一维特征都服从高斯分布，然后基于训练样本计算特征均值和标准差，从而得到此特征下每一个属性值的先验概率。')"
   ]
  },
  {
   "cell_type": "code",
   "execution_count": 39,
   "metadata": {},
   "outputs": [
    {
     "name": "stdout",
     "output_type": "stream",
     "text": [
      "*************MultinomialNB Classifier***************\n",
      "Training Score: 0.906\n",
      "Test Score: 0.909\n",
      "MultinomialNB accuracy: 0.909\n",
      "None\n",
      "当特征为离散时，使用多项式模型。该模型在计算先验概率和条件概率时，会做一些平滑处理\n"
     ]
    }
   ],
   "source": [
    "#多项贝叶斯分类器\n",
    "def test_MultinomialNB(*data):\n",
    "    X_train, X_test, y_train, y_test = data\n",
    "    cls = naive_bayes.MultinomialNB()\n",
    "    cls.fit(X_train, y_train)\n",
    "    print(\"*************MultinomialNB Classifier***************\")\n",
    "    print('Training Score: %.3f' % cls.score(X_train, y_train))\n",
    "    print('Test Score: %.3f' % cls.score(X_test, y_test))\n",
    "    pre_m = cls.predict(X_test)\n",
    "    accuracy_m = accuracy_score(y_test, pre_m)\n",
    "    print('MultinomialNB accuracy: %.3f' % accuracy_m)\n",
    "X_train, X_test, y_train, y_test = load_data()\n",
    "print(test_MultinomialNB(X_train, X_test, y_train, y_test))\n",
    "print('当特征为离散时，使用多项式模型。该模型在计算先验概率和条件概率时，会做一些平滑处理')"
   ]
  },
  {
   "cell_type": "code",
   "execution_count": 40,
   "metadata": {},
   "outputs": [
    {
     "name": "stdout",
     "output_type": "stream",
     "text": [
      "**************BernoulliNB Classifier***************\n",
      "Training Score: 0.867\n",
      "Test Score: 0.851\n",
      "BernoulliNB accuracy: 0.851\n",
      "None\n",
      "与多项式模型一样，伯努利模型适用于离散特征的情况，不同的是，伯努利模型中每个特征的取值只能是1和0\n"
     ]
    }
   ],
   "source": [
    "#伯努利贝叶斯分类器\n",
    "def test_BernoulliNB(*data):\n",
    "    X_train, X_test, y_train, y_test = data\n",
    "    cls = naive_bayes.BernoulliNB()\n",
    "    cls.fit(X_train, y_train)\n",
    "    print(\"**************BernoulliNB Classifier***************\")\n",
    "    print('Training Score: %.3f' % cls.score(X_train, y_train))\n",
    "    print('Test Score: %.3f' % cls.score(X_test, y_test))\n",
    "    pre_b = cls.predict(X_test)\n",
    "    accuracy_b = accuracy_score(y_test, pre_b)\n",
    "    print('BernoulliNB accuracy: %.3f' % accuracy_b)\n",
    "X_train, X_test, y_train, y_test = load_data()\n",
    "print(test_BernoulliNB(X_train, X_test, y_train, y_test))\n",
    "print('与多项式模型一样，伯努利模型适用于离散特征的情况，不同的是，伯努利模型中每个特征的取值只能是1和0')"
   ]
  },
  {
   "cell_type": "code",
   "execution_count": 41,
   "metadata": {},
   "outputs": [
    {
     "name": "stdout",
     "output_type": "stream",
     "text": [
      "The best method is MultinomialNB Classifier, and its accuracy is 0.909\n"
     ]
    }
   ],
   "source": [
    "print('The best method is MultinomialNB Classifier, and its accuracy is 0.909')"
   ]
  },
  {
   "cell_type": "code",
   "execution_count": null,
   "metadata": {},
   "outputs": [],
   "source": []
  }
 ],
 "metadata": {
  "kernelspec": {
   "display_name": "Python 3",
   "language": "python",
   "name": "python3"
  },
  "language_info": {
   "codemirror_mode": {
    "name": "ipython",
    "version": 3
   },
   "file_extension": ".py",
   "mimetype": "text/x-python",
   "name": "python",
   "nbconvert_exporter": "python",
   "pygments_lexer": "ipython3",
   "version": "3.7.6"
  }
 },
 "nbformat": 4,
 "nbformat_minor": 4
}
